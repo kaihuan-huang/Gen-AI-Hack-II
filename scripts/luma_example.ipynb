{
 "cells": [
  {
   "cell_type": "code",
   "execution_count": 1,
   "metadata": {},
   "outputs": [
    {
     "name": "stdout",
     "output_type": "stream",
     "text": [
      "Verifying api-key...\n"
     ]
    }
   ],
   "source": [
    "from lumaapi import LumaClient\n",
    "\n",
    "client = LumaClient(api_key)"
   ]
  },
  {
   "cell_type": "code",
   "execution_count": 2,
   "metadata": {},
   "outputs": [
    {
     "name": "stdout",
     "output_type": "stream",
     "text": [
      "Capture data {'title': 'tower', 'camModel': 'normal'}\n",
      "Created capture 0a41bc47-9776-4453-aae5-451af78db207\n",
      "Uploading\n",
      "Triggering\n",
      "Submitted 0a41bc47-9776-4453-aae5-451af78db207\n",
      "LumaCaptureInfo(title='tower', type=<CaptureType.RECONSTRUCTION: 0>, location=None, privacy=<PrivacyLevel.UNLISTED: 'unlisted'>, date=datetime.datetime(2023, 11, 16, 6, 17, 37, tzinfo=datetime.timezone.utc), username='liltom_eth', status=<CaptureStatus.COMPLETE: 2>, latest_run=LumaRunInfo(status=<RunStatus.NEW: 0>, progress=0, current_stage='Queued', artifacts=[]))\n"
     ]
    }
   ],
   "source": [
    "slug = client.submit(\"./triumphal_arch.mp4\", \"arch\")\n",
    "print(client.status(slug))"
   ]
  }
 ],
 "metadata": {
  "kernelspec": {
   "display_name": "luma",
   "language": "python",
   "name": "python3"
  },
  "language_info": {
   "codemirror_mode": {
    "name": "ipython",
    "version": 3
   },
   "file_extension": ".py",
   "mimetype": "text/x-python",
   "name": "python",
   "nbconvert_exporter": "python",
   "pygments_lexer": "ipython3",
   "version": "3.10.13"
  }
 },
 "nbformat": 4,
 "nbformat_minor": 2
}
